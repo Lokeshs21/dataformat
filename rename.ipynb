{
 "cells": [
  {
   "cell_type": "code",
   "execution_count": 1,
   "metadata": {},
   "outputs": [],
   "source": [
    "import pandas as pd"
   ]
  },
  {
   "cell_type": "code",
   "execution_count": 2,
   "metadata": {},
   "outputs": [],
   "source": [
    "df = pd.read_csv(r\"C:\\Users\\RC Labs\\Lokesh\\Report\\RCL_12\\log\\rcl_12\\RC0524100012_20241211130000to20241212100000_chgdish.csv\")"
   ]
  },
  {
   "cell_type": "code",
   "execution_count": 3,
   "metadata": {},
   "outputs": [],
   "source": [
    "df_copy = df.copy()"
   ]
  },
  {
   "cell_type": "code",
   "execution_count": 4,
   "metadata": {},
   "outputs": [],
   "source": [
    "# Dictionary for renaming\n",
    "new_columns = {\n",
    "    'systemTime': 'Time',\n",
    "    'Location_Latitude': 'Latitude',\n",
    "    'Location_Longitude': 'Longitude',\n",
    "    'Battery_Battery_Volt': 'Battery Volt',\n",
    "    'Battery_Battery_Current': 'Battery Current',\n",
    "    'Battery_SoC': 'SoC',\n",
    "    'Battery_SoH': 'SoH',\n",
    "    'Battery_Cycles': 'Cycles',\n",
    "    'BMS_State':'bmsFlag',\n",
    "    'PIU_Data_PIU_1':'PIU_Master1_1',\n",
    "    'PIU_Data_PIU_2':'PIU_Master1_2',\n",
    "    'BMS_Master_BMS_1':'BMS_Master1_1',\n",
    "    'BMS_Master_BMS_2':'BMS_Master1_2',\n",
    "    'BMS_Slave_1_BMS_1':'BMS_Slave1_1',\n",
    "    'BMS_Slave_1_BMS_2':'BMS_Slave1_2',\n",
    "}\n",
    "\n",
    "# Rename columns\n",
    "df_copy.rename(columns=new_columns, inplace=True)"
   ]
  },
  {
   "cell_type": "code",
   "execution_count": 5,
   "metadata": {},
   "outputs": [],
   "source": [
    "# Generate the old and new column names for master cell voltage\n",
    "old_columns = [f'Cell_Master_Cell_{i}' for i in range(1, 19)]\n",
    "new_columns = [f'Cell_Master1_{i}' for i in range(1, 19)]\n",
    "\n",
    "# Create a dictionary to map old column names to new ones\n",
    "rename_dict = dict(zip(old_columns, new_columns))\n",
    "\n",
    "# Rename the columns\n",
    "df_copy.rename(columns=rename_dict, inplace=True)"
   ]
  },
  {
   "cell_type": "code",
   "execution_count": 6,
   "metadata": {},
   "outputs": [],
   "source": [
    "# Generate the old and new column names for slave cell voltage\n",
    "\n",
    "old_columns = [f'Cell_Slave_1_Cell_{i}' for i in range(1, 19)]\n",
    "new_columns = [f'Cell_Slave1_{i}' for i in range(1, 19)]\n",
    "\n",
    "\n",
    "# Create a dictionary to map old column names to new ones\n",
    "rename_dict = dict(zip(old_columns, new_columns))\n",
    "\n",
    "# Rename the columns\n",
    "df_copy.rename(columns=rename_dict, inplace=True)"
   ]
  },
  {
   "cell_type": "code",
   "execution_count": 7,
   "metadata": {},
   "outputs": [],
   "source": [
    "# Generate the old and new column names for master temperature\n",
    "\n",
    "old_columns = [f'Temp_Master_Temp_{i}' for i in range(1, 19)]\n",
    "new_columns = [f'Temp_Master1_{i}' for i in range(1, 19)]\n",
    "\n",
    "\n",
    "\n",
    "# Create a dictionary to map old column names to new ones\n",
    "rename_dict = dict(zip(old_columns, new_columns))\n",
    "\n",
    "# Rename the columns\n",
    "df_copy.rename(columns=rename_dict, inplace=True)"
   ]
  },
  {
   "cell_type": "code",
   "execution_count": 8,
   "metadata": {},
   "outputs": [],
   "source": [
    "# Generate the old and new column names for slave temperature\n",
    "\n",
    "old_columns = [f'Temp_Slave_1_Temp_{i}' for i in range(1, 19)]\n",
    "new_columns = [f'Temp_Slave1_{i}' for i in range(1, 19)]\n",
    "\n",
    "\n",
    "\n",
    "# Create a dictionary to map old column names to new ones\n",
    "rename_dict = dict(zip(old_columns, new_columns))\n",
    "\n",
    "# Rename the columns\n",
    "df_copy.rename(columns=rename_dict, inplace=True)"
   ]
  },
  {
   "cell_type": "code",
   "execution_count": 9,
   "metadata": {},
   "outputs": [],
   "source": [
    "df_copy.to_csv(r'C:\\Users\\RC Labs\\Lokesh\\Report\\RCL_12\\log\\rcl_12\\RC0524100012_20241211130000to20241212100000_chgdish.csv')"
   ]
  }
 ],
 "metadata": {
  "kernelspec": {
   "display_name": "Python 3",
   "language": "python",
   "name": "python3"
  },
  "language_info": {
   "codemirror_mode": {
    "name": "ipython",
    "version": 3
   },
   "file_extension": ".py",
   "mimetype": "text/x-python",
   "name": "python",
   "nbconvert_exporter": "python",
   "pygments_lexer": "ipython3",
   "version": "3.11.9"
  }
 },
 "nbformat": 4,
 "nbformat_minor": 2
}
